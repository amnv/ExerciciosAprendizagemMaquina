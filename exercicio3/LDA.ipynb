{
 "cells": [
  {
   "cell_type": "code",
   "execution_count": 6,
   "metadata": {},
   "outputs": [],
   "source": [
    "import pandas as pd\n",
    "from sklearn.model_selection import StratifiedKFold\n",
    "from sklearn.preprocessing import MinMaxScaler\n",
    "from sklearn.model_selection import cross_val_score\n",
    "from sklearn.neighbors import KNeighborsClassifier\n",
    "\n",
    "#base e dados da base\n",
    "columns = [\"loc\", \"v(g)\", \"ev(g)\",\"iv(g)\", \"n\", \"v\", \"l\", \"d\",\"i\", \"e\", \"b\", \"t\", \"lOCode\",\\\n",
    "                                      \"loComment\", \"lOBlank\", \"locCodeAndComment\", \"uniq_Op\", \"uniq_Opnd\", \\\n",
    "                                      \"total_Op\", \"total_Opnd\", \"branchCount\", \"defects\"]\n",
    "df = pd.read_csv(\"../base2.csv\", names=columns)\n",
    "size = df.shape[1]\n",
    "# Samples for training\n",
    "tam = (size - 1)\n",
    "feature_data = df.iloc[:, :tam]\n",
    "label_data = df.iloc[:, -1]\n",
    "\n",
    "x = feature_data.values #returns a numpy array\n",
    "min_max_scaler = MinMaxScaler()\n",
    "x_scaled = min_max_scaler.fit_transform(x)\n",
    "data = pd.DataFrame(x_scaled, columns=df.columns[:tam])\n",
    "data = pd.concat([data, label_data], axis=1)"
   ]
  },
  {
   "cell_type": "code",
   "execution_count": 41,
   "metadata": {},
   "outputs": [
    {
     "data": {
      "text/plain": [
       "loc                   0.005173\n",
       "v(g)                  0.014903\n",
       "ev(g)                 0.011163\n",
       "iv(g)                 0.023627\n",
       "n                     0.000191\n",
       "v                     0.000865\n",
       "l                     0.235028\n",
       "d                     0.015121\n",
       "i                     0.106400\n",
       "e                     0.010289\n",
       "b                     0.000159\n",
       "t                     0.010289\n",
       "lOCode                0.000985\n",
       "loComment             0.062282\n",
       "lOBlank               0.013522\n",
       "locCodeAndComment     0.007260\n",
       "uniq_Op               0.006110\n",
       "uniq_Opnd             0.137841\n",
       "total_Op              0.000570\n",
       "total_Opnd            0.009685\n",
       "branchCount           0.017602\n",
       "defects              48.401913\n",
       "dtype: float64"
      ]
     },
     "execution_count": 41,
     "metadata": {},
     "output_type": "execute_result"
    }
   ],
   "source": [
    "all_pattern_mean = data.mean()\n",
    "classes = data.iloc[:, -1].unique()\n",
    "\n",
    "# Dispersão entre classes\n",
    "sb = 0\n",
    "\n",
    "# Dispersão intra classes\n",
    "sw = 0\n",
    "for l in classes:\n",
    "    # Patter belongs to class type\n",
    "    class_pattern = data[data.iloc[:, -1] == classes[0]]\n",
    "    number_class_patterns = class_pattern.shape[0]\n",
    "    class_pattern_mean = class_pattern.mean()\n",
    "    means_diff = (class_pattern_mean - all_pattern_mean) **2\n",
    "    sb += means_diff*number_class_patterns\n",
    "    \n",
    "    "
   ]
  }
 ],
 "metadata": {
  "kernelspec": {
   "display_name": "Python 3",
   "language": "python",
   "name": "python3"
  },
  "language_info": {
   "codemirror_mode": {
    "name": "ipython",
    "version": 3
   },
   "file_extension": ".py",
   "mimetype": "text/x-python",
   "name": "python",
   "nbconvert_exporter": "python",
   "pygments_lexer": "ipython3",
   "version": "3.6.4"
  }
 },
 "nbformat": 4,
 "nbformat_minor": 2
}
