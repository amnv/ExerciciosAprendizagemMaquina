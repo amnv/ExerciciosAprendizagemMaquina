{
 "cells": [
  {
   "cell_type": "code",
   "execution_count": 130,
   "metadata": {},
   "outputs": [],
   "source": [
    "import pandas as pd\n",
    "from sklearn.model_selection import StratifiedKFold\n",
    "from sklearn.preprocessing import MinMaxScaler\n",
    "from sklearn.model_selection import cross_val_score\n",
    "from sklearn.neighbors import KNeighborsClassifier\n",
    "\n",
    "#base e dados da base\n",
    "columns = [\"loc\", \"v(g)\", \"ev(g)\",\"iv(g)\", \"n\", \"v\", \"l\", \"d\",\"i\", \"e\", \"b\", \"t\", \"lOCode\",\\\n",
    "                                      \"loComment\", \"lOBlank\", \"locCodeAndComment\", \"uniq_Op\", \"uniq_Opnd\", \\\n",
    "                                      \"total_Op\", \"total_Opnd\", \"branchCount\", \"defects\"]\n",
    "df = pd.read_csv(\"../base2.csv\", names=columns)\n",
    "size = df.shape[1]\n",
    "# Samples for training\n",
    "tam = (size - 1)\n",
    "feature_data = df.iloc[:, :tam]\n",
    "label_data = df.iloc[:, -1]\n",
    "\n",
    "x = feature_data.values #returns a numpy array\n",
    "min_max_scaler = MinMaxScaler()\n",
    "x_scaled = min_max_scaler.fit_transform(x)\n",
    "data = pd.DataFrame(x_scaled, columns=df.columns[:tam])"
   ]
  },
  {
   "cell_type": "code",
   "execution_count": 125,
   "metadata": {},
   "outputs": [],
   "source": [
    "import numpy.linalg as la \n",
    "import numpy as np\n",
    "cov = data.cov()\n",
    "eigenvalues, eigenvectors = la.eig(cov)\n",
    "# Get higher eigenvectors\n",
    "k = 10\n",
    "eigenvalues_indices = np.argsort(eigenvalues)[::-1]\n",
    "a = eigenvalues_indices[:k]\n",
    "b = eigenvalues_indices[-1:]\n",
    "eigenvalues_indices = np.concatenate([a,b])"
   ]
  },
  {
   "cell_type": "code",
   "execution_count": 126,
   "metadata": {},
   "outputs": [
    {
     "data": {
      "text/plain": [
       "1.1657341758564144e-14"
      ]
     },
     "execution_count": 126,
     "metadata": {},
     "output_type": "execute_result"
    }
   ],
   "source": [
    "np.dot(eigenvectors[5], eigenvectors[4])"
   ]
  },
  {
   "cell_type": "code",
   "execution_count": 129,
   "metadata": {},
   "outputs": [
    {
     "name": "stdout",
     "output_type": "stream",
     "text": [
      "(21, 21)\n",
      "(11, 21)\n"
     ]
    }
   ],
   "source": [
    "print(cov.shape)\n",
    "print(eigenvectors[eigenvalues_indices].shape)\n",
    "new_data = np.matrix(eigenvectors[eigenvalues_indices])*np.matrix(x_scaled.T)\n",
    "df_new = pd.DataFrame(new_data.T, columns=df.columns[eigenvalues_indices])\n",
    "#df_new.loc.dtype\n",
    "#auto_valores/np.sum(auto_valores)"
   ]
  },
  {
   "cell_type": "code",
   "execution_count": 136,
   "metadata": {},
   "outputs": [
    {
     "name": "stdout",
     "output_type": "stream",
     "text": [
      "Model's acuracy\n",
      "[0.86363636 0.69318182 0.67816092 0.86046512 0.86046512]\n"
     ]
    }
   ],
   "source": [
    "# Training model\n",
    "model = KNeighborsClassifier(n_neighbors=1)\n",
    "\n",
    "# Slip data mode\n",
    "cv = StratifiedKFold(n_splits=5)\n",
    "\n",
    "#training data\n",
    "tam = df_new.shape[1] - 1\n",
    "feature_new_data = df_new.iloc[:, :tam]\n",
    "\n",
    "# Executing the train and test process\n",
    "scores = cross_val_score(model, feature_new_data, label_data, cv=cv)\n",
    "\n",
    "print(\"Model's acuracy\")\n",
    "print(scores)"
   ]
  },
  {
   "cell_type": "code",
   "execution_count": null,
   "metadata": {},
   "outputs": [],
   "source": []
  }
 ],
 "metadata": {
  "kernelspec": {
   "display_name": "Python 3",
   "language": "python",
   "name": "python3"
  },
  "language_info": {
   "codemirror_mode": {
    "name": "ipython",
    "version": 3
   },
   "file_extension": ".py",
   "mimetype": "text/x-python",
   "name": "python",
   "nbconvert_exporter": "python",
   "pygments_lexer": "ipython3",
   "version": "3.6.4"
  }
 },
 "nbformat": 4,
 "nbformat_minor": 2
}
